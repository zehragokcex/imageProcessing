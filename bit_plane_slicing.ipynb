{
 "cells": [
  {
   "cell_type": "code",
   "execution_count": 4,
   "id": "be5b2e83",
   "metadata": {},
   "outputs": [
    {
     "data": {
      "text/plain": [
       "-1"
      ]
     },
     "execution_count": 4,
     "metadata": {},
     "output_type": "execute_result"
    }
   ],
   "source": [
    "import cv2\n",
    "import numpy as np\n",
    "# Read the image in greyscale\n",
    "img = cv2.imread('bit.png',0)\n",
    " \n",
    "\n",
    "lst = []\n",
    "for i in range(img.shape[0]):\n",
    "    for j in range(img.shape[1]):\n",
    "         lst.append(np.binary_repr(img[i][j] ,width=8)) \n",
    " \n",
    "\n",
    "eight_bit_img = (np.array([int(i[0]) \n",
    "                           for i in lst],dtype = np.uint8) * 128).reshape(img.shape[0],img.shape[1])\n",
    "seven_bit_img = (np.array([int(i[1]) \n",
    "                           for i in lst],dtype = np.uint8) * 64).reshape(img.shape[0],img.shape[1])\n",
    "six_bit_img = (np.array([int(i[2]) \n",
    "                         for i in lst],dtype = np.uint8) * 32).reshape(img.shape[0],img.shape[1])\n",
    "five_bit_img = (np.array([int(i[3]) \n",
    "                          for i in lst],dtype = np.uint8) * 16).reshape(img.shape[0],img.shape[1])\n",
    "four_bit_img = (np.array([int(i[4]) \n",
    "                          for i in lst],dtype = np.uint8) * 8).reshape(img.shape[0],img.shape[1])\n",
    "three_bit_img = (np.array([int(i[5]) \n",
    "                           for i in lst],dtype = np.uint8) * 4).reshape(img.shape[0],img.shape[1])\n",
    "two_bit_img = (np.array([int(i[6]) \n",
    "                         for i in lst],dtype = np.uint8) * 2).reshape(img.shape[0],img.shape[1])\n",
    "one_bit_img = (np.array([int(i[7]) \n",
    "                         for i in lst],dtype = np.uint8) * 1).reshape(img.shape[0],img.shape[1])\n",
    " \n",
    "\n",
    "finalr = cv2.hconcat([eight_bit_img,seven_bit_img,six_bit_img,five_bit_img])\n",
    "finalv =cv2.hconcat([four_bit_img,three_bit_img,two_bit_img,one_bit_img])\n",
    " \n",
    "final = cv2.vconcat([finalr,finalv])\n",
    " \n",
    "cv2.imshow('a',final)\n",
    "cv2.waitKey(0) "
   ]
  },
  {
   "cell_type": "code",
   "execution_count": null,
   "id": "3b9ccc31",
   "metadata": {},
   "outputs": [],
   "source": []
  }
 ],
 "metadata": {
  "kernelspec": {
   "display_name": "Python 3 (ipykernel)",
   "language": "python",
   "name": "python3"
  },
  "language_info": {
   "codemirror_mode": {
    "name": "ipython",
    "version": 3
   },
   "file_extension": ".py",
   "mimetype": "text/x-python",
   "name": "python",
   "nbconvert_exporter": "python",
   "pygments_lexer": "ipython3",
   "version": "3.11.5"
  }
 },
 "nbformat": 4,
 "nbformat_minor": 5
}
